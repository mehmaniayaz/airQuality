{
 "cells": [
  {
   "cell_type": "code",
   "execution_count": null,
   "metadata": {},
   "outputs": [],
   "source": [
    "%load_ext autoreload\n",
    "%autoreload 2"
   ]
  },
  {
   "cell_type": "code",
   "execution_count": null,
   "metadata": {},
   "outputs": [],
   "source": [
    "import pandas as pd\n",
    "import numpy as np\n",
    "import seaborn as sns\n",
    "import matplotlib.pyplot as plt\n",
    "from sklearn.metrics import mean_squared_error as mse\n",
    "from sklearn.metrics import r2_score\n",
    "from sklearn.preprocessing import QuantileTransformer\n",
    "from sklearn.decomposition import PCA\n",
    "from sklearn.model_selection import train_test_split\n",
    "from sklearn.model_selection import GridSearchCV\n",
    "from sklearn.linear_model import LinearRegression\n",
    "from sklearn.model_selection import RandomizedSearchCV\n",
    "from sklearn.ensemble import RandomForestRegressor\n",
    "import xgboost as xgb\n",
    "from sklearn.impute import SimpleImputer\n",
    "from sklearn import preprocessing\n",
    "from sklearn.experimental import enable_iterative_imputer\n",
    "from sklearn.impute import IterativeImputer\n",
    "from sklearn.feature_selection import VarianceThreshold\n",
    "import shap\n",
    "from yellowbrick.regressor import ResidualsPlot"
   ]
  },
  {
   "cell_type": "code",
   "execution_count": null,
   "metadata": {},
   "outputs": [],
   "source": [
    "import sys  \n",
    "sys.path.insert(0, '../src')"
   ]
  },
  {
   "cell_type": "code",
   "execution_count": null,
   "metadata": {},
   "outputs": [],
   "source": [
    "from preprocess import *\n",
    "from artifacts import *"
   ]
  },
  {
   "cell_type": "markdown",
   "metadata": {},
   "source": [
    "**Attribute Information:**\n",
    "\n",
    "<span style=\"color:red \">**Date**</span>: (DD/MM/YYYY)  \n",
    "\n",
    "<span style=\"color:red \">**Time**</span>: (HH.MM.SS)   \n",
    "\n",
    "<span style=\"color:red \">**CO**</span>: True hourly averaged concentration mg/m^3 (reference analyzer)   \n",
    "\n",
    "<span style=\"color:red \">**PT08.S1**</span>: (tin oxide) hourly averaged sensor response (nominally CO targeted   \n",
    "\n",
    "<span style=\"color:red \">**NMHC**</span>: True hourly averaged overall Non Metanic HydroCarbons concentration in microg/m^3 (reference analyzer)  \n",
    "\n",
    "<span style=\"color:red \">**C6H6(GT)**</span>: True hourly averaged Benzene concentration in microg/m^3 (reference analyzer) \n",
    "\n",
    "<span style=\"color:red \">**PT08.S2**</span>: (titania) hourly averaged sensor response (nominally NMHC targeted)   \n",
    "\n",
    "<span style=\"color:red \">**NOx**</span>: True hourly averaged concentration in ppb (reference analyzer)    \n",
    "\n",
    "<span style=\"color:red \">**PT08.S3**</span>: (tungsten oxide) hourly averaged sensor response (nominally NOx targeted)       \n",
    "\n",
    "<span style=\"color:red \">**NO2**</span>: True hourly averaged concentration in microg/m^3 (reference analyzer)  \n",
    "\n",
    "<span style=\"color:red \">**PT08.S4**</span>: (tungsten oxide) hourly averaged sensor response (nominally NO2 targeted) \n",
    "\n",
    "<span style=\"color:red \">**PT08.S5**</span>: indium oxide) hourly averaged sensor response (nominally O3 targeted) \n",
    "\n",
    "<span style=\"color:red \">**PT08.S5**</span>: (indium oxide) hourly averaged sensor response (nominally O3 targeted)     \n",
    "\n",
    "<span style=\"color:red \">**Temperature**</span>: Temperature in Â°C  \n",
    "\n",
    "<span style=\"color:red \">**Relative Humidity**</span>: (%)  \n",
    "\n",
    "<span style=\"color:red \">**Absolute Humidity**</span>: AH  \n",
    "\n"
   ]
  },
  {
   "cell_type": "code",
   "execution_count": null,
   "metadata": {},
   "outputs": [],
   "source": [
    "pd.set_option('display.max_columns',None)\n",
    "pd.set_option('display.max_rows',None)"
   ]
  },
  {
   "cell_type": "code",
   "execution_count": null,
   "metadata": {
    "scrolled": true
   },
   "outputs": [],
   "source": [
    "df = pd.read_csv('../data/AirQualityUCI/AirQualityUCI.csv',index_col=0)"
   ]
  },
  {
   "cell_type": "markdown",
   "metadata": {},
   "source": [
    "# feature engineering"
   ]
  },
  {
   "cell_type": "code",
   "execution_count": null,
   "metadata": {
    "scrolled": true
   },
   "outputs": [],
   "source": [
    "df['DateTime'] = pd.to_datetime(df['Date'] + ' '+ df['Time'])\n",
    "df['day_name'] = df['DateTime'].apply(lambda x: x.day_name())\n",
    "df['month_name'] = df['DateTime'].apply(lambda x: x.month_name())\n",
    "df['time_of_day'] = df['DateTime'].apply(find_time_of_day)"
   ]
  },
  {
   "cell_type": "markdown",
   "metadata": {},
   "source": [
    "# imputation"
   ]
  },
  {
   "cell_type": "code",
   "execution_count": null,
   "metadata": {},
   "outputs": [],
   "source": [
    "df= df.applymap(lambda x: np.nan if x==-200 else x)"
   ]
  },
  {
   "cell_type": "code",
   "execution_count": null,
   "metadata": {},
   "outputs": [],
   "source": [
    "df.isnull().sum().sort_values(ascending=False)/len(df)*100"
   ]
  },
  {
   "cell_type": "code",
   "execution_count": null,
   "metadata": {},
   "outputs": [],
   "source": [
    "df.drop(columns=['NMHC(GT)','DateTime','Date','Time'],inplace=True)"
   ]
  },
  {
   "cell_type": "code",
   "execution_count": null,
   "metadata": {},
   "outputs": [],
   "source": [
    "non_chemical_features = ['AH','RH','T']\n",
    "chemical_features = ['CO(GT)', 'C6H6(GT)','NO2(GT)','NOx(GT)']\n",
    "sensor_chemical_features = [ 'PT08.S2(NMHC)','PT08.S3(NOx)','PT08.S4(NO2)','PT08.S5(O3)', 'PT08.S1(CO)']"
   ]
  },
  {
   "cell_type": "code",
   "execution_count": null,
   "metadata": {
    "scrolled": true
   },
   "outputs": [],
   "source": [
    "sns.pairplot(df[sensor_chemical_features+chemical_features],diag_kind='hist')"
   ]
  },
  {
   "cell_type": "markdown",
   "metadata": {},
   "source": [
    "### normalize features"
   ]
  },
  {
   "cell_type": "code",
   "execution_count": null,
   "metadata": {},
   "outputs": [],
   "source": [
    "df_normalized = df.copy()\n",
    "for col in chemical_features + sensor_chemical_features + non_chemical_features:\n",
    "    df_normalized[col]=(df_normalized[col]-df_normalized[col].min())/(df_normalized[col].max()-df_normalized[col].min())"
   ]
  },
  {
   "cell_type": "code",
   "execution_count": null,
   "metadata": {},
   "outputs": [],
   "source": [
    "df_normalized.sample(4)"
   ]
  },
  {
   "cell_type": "code",
   "execution_count": null,
   "metadata": {},
   "outputs": [],
   "source": [
    "imp = IterativeImputer(max_iter=10, random_state=0,add_indicator=True)"
   ]
  },
  {
   "cell_type": "code",
   "execution_count": null,
   "metadata": {},
   "outputs": [],
   "source": [
    "column_names = sensor_chemical_features+chemical_features"
   ]
  },
  {
   "cell_type": "code",
   "execution_count": null,
   "metadata": {},
   "outputs": [],
   "source": [
    "missing_names = ['missing_'+x for x in column_names]"
   ]
  },
  {
   "cell_type": "code",
   "execution_count": null,
   "metadata": {},
   "outputs": [],
   "source": [
    "df_sensor_chemical_imputed = pd.DataFrame(imp.fit_transform(df_normalized[sensor_chemical_features+chemical_features]),\n",
    "                                         columns=column_names + missing_names)"
   ]
  },
  {
   "cell_type": "code",
   "execution_count": null,
   "metadata": {},
   "outputs": [],
   "source": [
    "df_sensor_chemical_imputed['missing'] = (df_sensor_chemical_imputed[missing_names].sum(axis=1)!=0).astype(int)"
   ]
  },
  {
   "cell_type": "code",
   "execution_count": null,
   "metadata": {
    "scrolled": false
   },
   "outputs": [],
   "source": [
    "# sns.pairplot(df_sensor_chemical_imputed[column_names+['missing']],hue='missing')"
   ]
  },
  {
   "cell_type": "code",
   "execution_count": null,
   "metadata": {
    "scrolled": true
   },
   "outputs": [],
   "source": [
    "df_sensor_chemical_imputed[chemical_features+['missing']]"
   ]
  },
  {
   "cell_type": "code",
   "execution_count": null,
   "metadata": {},
   "outputs": [],
   "source": [
    "### impute temperature and humidity features"
   ]
  },
  {
   "cell_type": "code",
   "execution_count": null,
   "metadata": {},
   "outputs": [],
   "source": [
    "imp = IterativeImputer(max_iter=10, random_state=0,add_indicator=True)"
   ]
  },
  {
   "cell_type": "code",
   "execution_count": null,
   "metadata": {},
   "outputs": [],
   "source": [
    "missing_names = ['missing_'+x for x in non_chemical_features]"
   ]
  },
  {
   "cell_type": "code",
   "execution_count": null,
   "metadata": {},
   "outputs": [],
   "source": [
    "df_normalized.sample(3)"
   ]
  },
  {
   "cell_type": "code",
   "execution_count": null,
   "metadata": {
    "scrolled": true
   },
   "outputs": [],
   "source": [
    "df_temp_hum= pd.DataFrame(imp.fit_transform(df_normalized[non_chemical_features]),\n",
    "                                         columns=non_chemical_features + missing_names)"
   ]
  },
  {
   "cell_type": "code",
   "execution_count": null,
   "metadata": {},
   "outputs": [],
   "source": [
    "df_temp_hum['missing'] = (df_temp_hum[missing_names].sum(axis=1)!=0).astype(int)"
   ]
  },
  {
   "cell_type": "code",
   "execution_count": null,
   "metadata": {},
   "outputs": [],
   "source": [
    "df_temp_hum.sample(3)"
   ]
  },
  {
   "cell_type": "code",
   "execution_count": null,
   "metadata": {},
   "outputs": [],
   "source": [
    "df_sensor_chemical_imputed.sample(3)"
   ]
  },
  {
   "cell_type": "code",
   "execution_count": null,
   "metadata": {},
   "outputs": [],
   "source": [
    "df_final = df_sensor_chemical_imputed[chemical_features+['missing']]"
   ]
  },
  {
   "cell_type": "code",
   "execution_count": null,
   "metadata": {},
   "outputs": [],
   "source": [
    "df_final.loc[:,'missing'] = df_final.loc[:,'missing'] +df_temp_hum.loc[:,'missing']\n"
   ]
  },
  {
   "cell_type": "code",
   "execution_count": null,
   "metadata": {},
   "outputs": [],
   "source": [
    "df_final['missing'] = df_final['missing'].apply(lambda x: 1 if x>0 else 0)"
   ]
  },
  {
   "cell_type": "code",
   "execution_count": null,
   "metadata": {},
   "outputs": [],
   "source": [
    "df_final[non_chemical_features] = df_temp_hum[non_chemical_features]"
   ]
  },
  {
   "cell_type": "code",
   "execution_count": null,
   "metadata": {},
   "outputs": [],
   "source": [
    "df_final.loc[:,'total_chemicals'] = df_final.loc[:,chemical_features].sum(axis=1)"
   ]
  },
  {
   "cell_type": "code",
   "execution_count": null,
   "metadata": {},
   "outputs": [],
   "source": [
    "df_final.drop(columns=chemical_features,inplace=True)"
   ]
  },
  {
   "cell_type": "markdown",
   "metadata": {},
   "source": [
    "### dummify categorical variables"
   ]
  },
  {
   "cell_type": "code",
   "execution_count": null,
   "metadata": {},
   "outputs": [],
   "source": [
    "numerical_columns = list(df._get_numeric_data().columns)\n",
    "cat_columns = [x for x in df.columns if x not in numerical_columns]"
   ]
  },
  {
   "cell_type": "code",
   "execution_count": null,
   "metadata": {},
   "outputs": [],
   "source": [
    "df_dummies = pd.get_dummies(df,columns = cat_columns)"
   ]
  },
  {
   "cell_type": "code",
   "execution_count": null,
   "metadata": {},
   "outputs": [],
   "source": [
    "df_dummies.drop(columns=numerical_columns,inplace=True)"
   ]
  },
  {
   "cell_type": "code",
   "execution_count": null,
   "metadata": {},
   "outputs": [],
   "source": [
    "df_final = pd.concat([df_dummies,df_final],axis=1)"
   ]
  },
  {
   "cell_type": "markdown",
   "metadata": {},
   "source": [
    "### remove outliers"
   ]
  },
  {
   "cell_type": "code",
   "execution_count": null,
   "metadata": {},
   "outputs": [],
   "source": [
    "outlier_columns = ['AH','RH','T','total_chemicals']\n",
    "from scipy import stats"
   ]
  },
  {
   "cell_type": "code",
   "execution_count": null,
   "metadata": {},
   "outputs": [],
   "source": [
    "df_final_trimmed= df_final[(np.abs(stats.zscore(df_final[outlier_columns])) < 3).all(axis=1)]"
   ]
  },
  {
   "cell_type": "code",
   "execution_count": null,
   "metadata": {},
   "outputs": [],
   "source": [
    "# fig = plt.figure(facecolor='white')\n",
    "# sns_plot = sns.pairplot(df_final_trimmed[non_chemical_features + ['total_chemicals','missing']],\n",
    "#                         hue='missing',kind='hist',corner=True)\n",
    "# plt.tight_layout()\n",
    "# sns_plot.savefig(\"../plots/imputed_pairplot.png\",facecolor=fig.get_facecolor(), edgecolor='none',dpi=100)"
   ]
  },
  {
   "cell_type": "markdown",
   "metadata": {},
   "source": [
    "### build model"
   ]
  },
  {
   "cell_type": "code",
   "execution_count": null,
   "metadata": {},
   "outputs": [],
   "source": [
    "targets = ['total_chemicals']\n",
    "features = [x for x in df_final.columns if (x not in targets and 'missing' not in x)]"
   ]
  },
  {
   "cell_type": "code",
   "execution_count": null,
   "metadata": {},
   "outputs": [],
   "source": [
    "X = df_final_trimmed[features]\n",
    "y = df_final_trimmed[targets]"
   ]
  },
  {
   "cell_type": "code",
   "execution_count": null,
   "metadata": {},
   "outputs": [],
   "source": [
    "X_train, X_test, y_train, y_test= train_test_split(X, y, test_size=0.33, random_state=42)"
   ]
  },
  {
   "cell_type": "code",
   "execution_count": null,
   "metadata": {},
   "outputs": [],
   "source": [
    "param_grid = {'n_estimators':[10,50,100],\n",
    "              'max_depth':[2,10,50,100,300,600],\n",
    "              'max_features':[1,2,4,9,20,30],\n",
    "             'verbose':[1]}"
   ]
  },
  {
   "cell_type": "code",
   "execution_count": null,
   "metadata": {},
   "outputs": [],
   "source": [
    "search = GridSearchCV(estimator=RandomForestRegressor(),param_grid=param_grid, cv = 5)"
   ]
  },
  {
   "cell_type": "code",
   "execution_count": null,
   "metadata": {
    "scrolled": true
   },
   "outputs": [],
   "source": [
    "search.fit(X_train,y_train)"
   ]
  },
  {
   "cell_type": "code",
   "execution_count": null,
   "metadata": {},
   "outputs": [],
   "source": [
    "r2_score(y_true=y_train,y_pred=search.predict(X_train))"
   ]
  },
  {
   "cell_type": "code",
   "execution_count": null,
   "metadata": {},
   "outputs": [],
   "source": [
    "r2_score(y_true=y_test,y_pred=search.predict(X_test))"
   ]
  },
  {
   "cell_type": "code",
   "execution_count": null,
   "metadata": {
    "scrolled": true
   },
   "outputs": [],
   "source": [
    "param_grid_evaluation(model=search,param_grid=param_grid,metric='mean_test_score')"
   ]
  },
  {
   "cell_type": "code",
   "execution_count": null,
   "metadata": {
    "scrolled": false
   },
   "outputs": [],
   "source": [
    "fig = plt.figure()\n",
    "visualizer = ResidualsPlot(search,hist=False, qqplot=True,show=False)\n",
    "visualizer.fit(np.array(X_train), np.array(y_train.squeeze(1)))  # Fit the training data to the visualizer\n",
    "visualizer.score(np.array(X_test), np.array(y_test.squeeze(1)))  # Evaluate the model on the test data\n",
    "visualizer.finalize()\n",
    "plt.tight_layout()\n",
    "plt.savefig('../plots/residual_analysis.png')"
   ]
  },
  {
   "cell_type": "markdown",
   "metadata": {},
   "source": [
    "# feature importance"
   ]
  },
  {
   "cell_type": "code",
   "execution_count": null,
   "metadata": {
    "scrolled": true
   },
   "outputs": [],
   "source": [
    "visualize_n_important_features(df=df_final_trimmed[features+targets],n=5,model=search,target=['total_chemicals'])"
   ]
  },
  {
   "cell_type": "code",
   "execution_count": null,
   "metadata": {},
   "outputs": [],
   "source": [
    "shap.initjs()"
   ]
  },
  {
   "cell_type": "code",
   "execution_count": null,
   "metadata": {},
   "outputs": [],
   "source": [
    "explainer = shap.TreeExplainer(model=search.best_estimator_)"
   ]
  },
  {
   "cell_type": "code",
   "execution_count": null,
   "metadata": {},
   "outputs": [],
   "source": [
    "shap_values = explainer.shap_values(X_train)"
   ]
  },
  {
   "cell_type": "code",
   "execution_count": null,
   "metadata": {},
   "outputs": [],
   "source": [
    "shap.force_plot(explainer.expected_value, shap_values[0,:], X.iloc[0,:])"
   ]
  },
  {
   "cell_type": "code",
   "execution_count": null,
   "metadata": {
    "scrolled": true
   },
   "outputs": [],
   "source": [
    "# summarize the effects of all the features\n",
    "fig = plt.figure(facecolor='white')\n",
    "shap_plot = shap.summary_plot(shap_values, X_train,show=False)\n",
    "plt.tight_layout()\n",
    "plt.savefig('../plots/shap.png',facecolor=fig.get_facecolor(), edgecolor='none',dpi=100)"
   ]
  },
  {
   "cell_type": "code",
   "execution_count": null,
   "metadata": {},
   "outputs": [],
   "source": [
    "shap.dependence_plot(\"time_of_day_sleep_time\", shap_values, X_train)"
   ]
  },
  {
   "cell_type": "code",
   "execution_count": null,
   "metadata": {},
   "outputs": [],
   "source": [
    "stop here"
   ]
  }
 ],
 "metadata": {
  "kernelspec": {
   "display_name": "airQuality",
   "language": "python",
   "name": "airquality"
  },
  "language_info": {
   "codemirror_mode": {
    "name": "ipython",
    "version": 3
   },
   "file_extension": ".py",
   "mimetype": "text/x-python",
   "name": "python",
   "nbconvert_exporter": "python",
   "pygments_lexer": "ipython3",
   "version": "3.8.6"
  }
 },
 "nbformat": 4,
 "nbformat_minor": 4
}
